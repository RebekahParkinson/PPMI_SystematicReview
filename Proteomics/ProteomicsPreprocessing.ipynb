{
 "cells": [
  {
   "cell_type": "markdown",
   "metadata": {},
   "source": [
    "# PROTEOMICS"
   ]
  },
  {
   "cell_type": "markdown",
   "metadata": {},
   "source": [
    "### Read,wrangle, transpose and merge"
   ]
  },
  {
   "cell_type": "code",
   "execution_count": 2,
   "metadata": {},
   "outputs": [
    {
     "name": "stderr",
     "output_type": "stream",
     "text": [
      "/var/folders/95/gx6gh43j57b1n5mbc197djbh0000gn/T/ipykernel_40869/577088185.py:7: DtypeWarning: Columns (5,7,9,10,11,12,15,17,21,22,23,24,25,26,27,28,29,30,31,32,33,34,35,36,37,38,39,40,41,42,43,44,47,48,49,50,51,52,53,54,55,56,57,58,59,60,61,62,63,64,65,66,67,68,69,70,71,72,73,74,75,76,77,78,79,80,81,82,83,84,85,86,87,88,89,90,91,92,93,94,95,96,97,98,99,100,101,102,103,104,105,106,107,108,109,112,115,116,118,119,120,121,122,123,124,125,126,127,128,129,130,131,132,133,134,135,136,137,138,139,140,141,142,143,144,145,146,147,148,149,150,151,152,153,154,155,157,159,160,163,164,169,187,188,190,194,195,199,200,201,202,203,219,220,221,225,226,227,231,232,233,240,242,243,244,245) have mixed types. Specify dtype option on import or set low_memory=False.\n",
      "  df_finalconcat = pd.read_csv(\"/Volumes/PARK2023-Q5758/SAA Systematic Review (Human Data)/Becky/Code_Output/FinalConcat.csv\")\n"
     ]
    }
   ],
   "source": [
    "import pandas as pd\n",
    "# IFN NPX Proteomics from Olink, project 196\n",
    "CSF_INF = pd.read_csv(\"/Volumes/PARK2023-Q5758/SAA Systematic Review (Human Data)/IDA_PPMI_database_12Nov2023/Biospecimen/Proteomic_Analysis/PPMI_Project_196_CSF_INF_NPX_12Nov2023.csv\")\n",
    "Plasma_INF = pd.read_csv(\"/Volumes/PARK2023-Q5758/SAA Systematic Review (Human Data)/IDA_PPMI_database_12Nov2023/Biospecimen/Proteomic_Analysis/PPMI_Project_196_Plasma_INF_NPX_12Nov2023.csv\")\n",
    "CSF_NEU = pd.read_csv(\"/Volumes/PARK2023-Q5758/SAA Systematic Review (Human Data)/IDA_PPMI_database_12Nov2023/Biospecimen/Proteomic_Analysis/PPMI_Project_196_CSF_NEU_NPX_12Nov2023.csv\")\n",
    "Plasma_NEU = pd.read_csv(\"/Volumes/PARK2023-Q5758/SAA Systematic Review (Human Data)/IDA_PPMI_database_12Nov2023/Biospecimen/Proteomic_Analysis/PPMI_Project_196_Plasma_NEURO_NPX_12Nov2023.csv\")\n",
    "df_finalconcat = pd.read_csv(\"/Volumes/PARK2023-Q5758/SAA Systematic Review (Human Data)/Becky/Code_Output/FinalConcat.csv\")\n",
    "subject_cohort = pd.read_csv(\"/Volumes/PARK2023-Q5758/SAA Systematic Review (Human Data)/IDA_PPMI_database_12Nov2023/Subject_Characteristics/Subject_Demographics/Subject_Cohort_History_12Nov2023.csv\")\n",
    "df_finalconcat_withDiag= pd.read_csv(\"/Volumes/PARK2023-Q5758/SAA Systematic Review (Human Data)/Becky/Code_Output/FinalConcat_withDIAG.csv\")"
   ]
  },
  {
   "cell_type": "code",
   "execution_count": 3,
   "metadata": {},
   "outputs": [],
   "source": [
    "#remove NaNs and incorrect assays, drop categorical values, transpose, match classes, merge, save \n",
    "df_finalconcat = df_finalconcat.dropna(subset=['PATNO'])\n",
    "df_finalconcat['PATNO'] = pd.to_numeric(df_finalconcat['PATNO'], errors='coerce')\n",
    "df_finalconcat['PATNO'] = df_finalconcat['PATNO'].fillna(0).astype(int).astype(str)\n",
    "# df_finalconcat['ageonset'] = df_finalconcat['ageonset'].astype(str)\n",
    "# df_finalconcat['yearsincedia''] = df_finalconcat['ageonset'].astype(str)\n",
    "\n",
    "CSF_INF = CSF_INF.dropna(subset=['PATNO'])\n",
    "CSF_INF = CSF_INF[CSF_INF['QC_WARNING'] != 'WARN']\n",
    "CSF_INF['PATNO'] = CSF_INF['PATNO'].str.replace('PPMI-', '')\n",
    "CSF_INF['PATNO'] = CSF_INF['PATNO'].astype(str)\n",
    "CSF_INF_merged = pd.merge(CSF_INF, df_finalconcat[['PATNO', 'subgroup_simplified', 'QUALRep1', 'EVENT_NUM','EVENT_ID']], on=['PATNO', 'EVENT_ID'], how='left')\n",
    "CSF_INF_merged.to_csv(\"/Volumes/PARK2023-Q5758/SAA Systematic Review (Human Data)/Becky/Code_Output/Proteomics_CSF_INF_Transposed.csv\")\n",
    "# CSF_INF['ageonset'] = CSF_INF['ageonset'].astype(str)\n",
    "\n",
    "Plasma_INF = Plasma_INF.dropna(subset=['PATNO'])\n",
    "Plasma_INF = Plasma_INF[Plasma_INF['QC_WARNING'] != 'WARN']\n",
    "Plasma_INF['PATNO'] = Plasma_INF['PATNO'].str.replace('PPMI-', '')\n",
    "Plasma_INF['PATNO'] = Plasma_INF['PATNO'].astype(str)\n",
    "Plasma_INF_merged = pd.merge(Plasma_INF, df_finalconcat[['PATNO', 'subgroup_simplified', 'QUALRep1', 'EVENT_NUM','EVENT_ID']], on=['PATNO', 'EVENT_ID'], how='left')\n",
    "# Plasma_INF['ageonset'] = Plasma_INF['ageonset'].astype(str)\n",
    "Plasma_INF_merged.to_csv(\"/Volumes/PARK2023-Q5758/SAA Systematic Review (Human Data)/Becky/Code_Output/Proteomics_Plasma_INF_Transposed.csv\")\n",
    "\n",
    "#no prodromal in NEU proteomics, so were excluded\n",
    "# CSF_NEU = CSF_NEU.dropna(subset=['PATNO'])\n",
    "# CSF_NEU = CSF_NEU[CSF_NEU['QC_WARNING'] != 'WARN']\n",
    "# CSF_NEU['PATNO'] = CSF_NEU['PATNO'].str.replace('PPMI-', '')\n",
    "# CSF_NEU['PATNO'] = CSF_NEU['PATNO'].astype(str)\n",
    "# CSF_NEU['ageonset'] = CSF_NEU['ageonset'].astype(str)\n",
    "# CSF_NEU_merged = pd.merge(CSF_NEU, df_finalconcat[['PATNO', 'ageonset', 'subgroup_simplified']], on=['PATNO', 'ageonset'], how='left')\n",
    "# CSF_NEU_merged.to_csv(\"/Volumes/PARK2023-Q5758/SAA Systematic Review (Human Data)/Code_Output/Proteomics_CSF_NEU_Transposed.csv\")\n",
    "\n",
    "# Plasma_NEU = Plasma_NEU.dropna(subset=['PATNO'])\n",
    "# Plasma_NEU = Plasma_NEU[Plasma_NEU['QC_WARNING'] != 'WARN']\n",
    "# Plasma_NEU['PATNO'] = Plasma_NEU['PATNO'].str.replace('PPMI-', '')\n",
    "# Plasma_NEU['PATNO'] = Plasma_NEU['PATNO'].astype(str)\n",
    "# Plasma_NEU['ageonset'] = Plasma_NEU['ageonset'].astype(str)\n",
    "# Plasma_NEU_merged = pd.merge(Plasma_NEU, df_finalconcat[['PATNO', 'ageonset', 'subgroup_simplified']], on=['PATNO', 'ageonset'], how='left')\n",
    "# Plasma_NEU_merged.to_csv(\"/Volumes/PARK2023-Q5758/SAA Systematic Review (Human Data)/Code_Output/Proteomics_Plasma_NEU_Transposed.csv\")\n",
    "\n",
    "# TODO: Consider LOD (Limit of detection) by removing values lower than threestandard deviations beneath the mean NPX value for a given assay)\n",
    "# def drop_lod_below_threshold(df):\n",
    "#     threshold = df['NPX'].std() * 3\n",
    "#     return df[df['LOD'] >= threshold]\n",
    "# Proteomics_CSF_NPX = Proteomics_CSF_NPX.groupby('PATNO').apply(drop_lod_below_threshold).reset_index(drop=True)\n",
    "# Proteomics_Plasma_NPX = Proteomics_Plasma_NPX.groupby('PATNO').apply(drop_lod_below_threshold).reset_index(drop=True)"
   ]
  },
  {
   "cell_type": "markdown",
   "metadata": {},
   "source": [
    "# PHENOCONVERTED ONLY"
   ]
  },
  {
   "cell_type": "code",
   "execution_count": 13,
   "metadata": {},
   "outputs": [],
   "source": [
    "####PHENOCONVERTED PX (specific to prodromal)\n",
    "# Filter the dataframe for PRIMDIAG = 1.0 and the specified subgroup_simplified values\n",
    "# PRIMDIAG_1 = df_finalconcat[(df_finalconcat['PRIMDIAG'] == 1) & \n",
    "#                              (df_finalconcat['subgroup_simplified'].isin(['Hyposmia', 'RBD +/- Hyposomia']))]\n",
    "# unique_patnos = PRIMDIAG_1['PATNO'].unique()\n",
    "# Phenoconverted = df_finalconcat[df_finalconcat['PATNO'].isin(unique_patnos)]\n",
    "\n",
    "# Step 1: Identify PATNOs within the specific subgroups that do not contain PRIMDIAG == 01\n",
    "patnos_to_exclude = df_finalconcat[\n",
    "    (df_finalconcat['subgroup_simplified'].isin(['Hyposmia', 'RBD +/- Hyposomia'])) &\n",
    "    (~df_finalconcat['PATNO'].isin(df_finalconcat[df_finalconcat['PRIMDIAG'] == 1]['PATNO'])) \n",
    "    #double negative - EXCLUDE (~) function includes patients WITHOUT (~) primdiag ==1\n",
    "]['PATNO'].unique()\n",
    "\n",
    "# Step 2: Filter the dataframe to exclude these PATNOs\n",
    "Phenoconverted = df_finalconcat[~df_finalconcat['PATNO'].isin(patnos_to_exclude)]\n",
    "\n",
    "\n",
    "\n",
    "\n",
    "Pheno_CSF_merged = pd.merge(CSF_INF, Phenoconverted[['PATNO', 'subgroup_simplified', 'QUALRep1', 'EVENT_NUM','EVENT_ID']], on=['PATNO', 'EVENT_ID'], how='left')\n",
    "# Pheno_CSF_merged = Pheno_CSF_merged.dropna(subset=['PATNO'])\n",
    "Pheno_CSF_merged.to_csv(\"/Volumes/PARK2023-Q5758/SAA Systematic Review (Human Data)/Becky/Code_Output/Proteomics_pheno_CSF.csv\")\n",
    "\n",
    "Pheno_plasma_merged  = pd.merge(Plasma_INF, Phenoconverted[['PATNO', 'subgroup_simplified', 'QUALRep1', 'EVENT_NUM','EVENT_ID']], on=['PATNO', 'EVENT_ID'], how='left')\n",
    "# Plasma_INF['ageonset'] = Plasma_INF['ageonset'].astype(str)\n",
    "Pheno_plasma_merged.to_csv(\"/Volumes/PARK2023-Q5758/SAA Systematic Review (Human Data)/Becky/Code_Output/Proteomics_pheno_plasma.csv\")\n"
   ]
  },
  {
   "cell_type": "code",
   "execution_count": 15,
   "metadata": {},
   "outputs": [
    {
     "name": "stdout",
     "output_type": "stream",
     "text": [
      "There are still values in the 'Sporadic' subgroup.\n"
     ]
    }
   ],
   "source": [
    "sporadic_present = Phenoconverted ['subgroup_simplified'].isin(['Hyposmia']).any()\n",
    "\n",
    "if sporadic_present:\n",
    "    print(\"There are still values in the 'Sporadic' subgroup.\")\n",
    "else:\n",
    "    print(\"There are no values in the 'Sporadic' subgroup.\")"
   ]
  }
 ],
 "metadata": {
  "kernelspec": {
   "display_name": "Python 3",
   "language": "python",
   "name": "python3"
  },
  "language_info": {
   "codemirror_mode": {
    "name": "ipython",
    "version": 3
   },
   "file_extension": ".py",
   "mimetype": "text/x-python",
   "name": "python",
   "nbconvert_exporter": "python",
   "pygments_lexer": "ipython3",
   "version": "3.9.18"
  }
 },
 "nbformat": 4,
 "nbformat_minor": 2
}
